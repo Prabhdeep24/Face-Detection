{
 "cells": [
  {
   "cell_type": "code",
   "execution_count": 1,
   "metadata": {},
   "outputs": [],
   "source": [
    "import cv2\n",
    " \n",
    " \n",
    " \n",
    " \n",
    "image = cv2.imread(\"5.jpg\")\n",
    "smile_cascade = cv2.CascadeClassifier('cascade/haarcascade_smile.xml')\n",
    "smiles  = smile_cascade.detectMultiScale(image, scaleFactor = 1.8, minNeighbors = 20)\n",
    "for (sx, sy, sw, sh) in smiles:\n",
    "            cv2.rectangle(image, (sx, sy), ((sx + sw), (sy + sh)), (0, 255,0), 5)\n",
    "cv2.imshow(\"Smile Detected\", image) \n",
    "\n",
    "eyeCascade = cv2.CascadeClassifier('cascade/haarcascade_eye.xml')\n",
    "eyes = eyeCascade.detectMultiScale(\n",
    "            image,\n",
    "            scaleFactor= 1.5,\n",
    "            minNeighbors=10,\n",
    "            minSize=(5, 5),\n",
    "            )\n",
    "for (ex, ey, ew, eh) in eyes:\n",
    "            cv2.rectangle(image, (ex, ey), (ex + ew, ey + eh), (0, 255, 0), 2)\n",
    "cv2.imshow(\"Eye Detected\", image)\n",
    "\n",
    "faceCascade = cv2.CascadeClassifier('cascade/haarcascade_frontalface_default.xml')\n",
    "faces = faceCascade.detectMultiScale(\n",
    "        image,\n",
    "        scaleFactor=1.3,\n",
    "        minNeighbors=5,      \n",
    "        minSize=(30, 30)\n",
    "    ) \n",
    "for (x,y,w,h) in faces:\n",
    "        cv2.rectangle(image,(x,y),(x+w,y+h),(255,0,0),2)\n",
    "cv2.imshow(\"Face Detected\", image)\n",
    "cv2.waitKey(0)\n",
    "cv2.destroyAllWindows()"
   ]
  },
  {
   "cell_type": "code",
   "execution_count": null,
   "metadata": {},
   "outputs": [],
   "source": []
  },
  {
   "cell_type": "code",
   "execution_count": null,
   "metadata": {},
   "outputs": [],
   "source": []
  }
 ],
 "metadata": {
  "kernelspec": {
   "display_name": "Python 3",
   "language": "python",
   "name": "python3"
  },
  "language_info": {
   "codemirror_mode": {
    "name": "ipython",
    "version": 3
   },
   "file_extension": ".py",
   "mimetype": "text/x-python",
   "name": "python",
   "nbconvert_exporter": "python",
   "pygments_lexer": "ipython3",
   "version": "3.7.5"
  }
 },
 "nbformat": 4,
 "nbformat_minor": 4
}
